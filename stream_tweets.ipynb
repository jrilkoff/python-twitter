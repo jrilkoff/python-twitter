{
 "cells": [
  {
   "cell_type": "code",
   "execution_count": 1,
   "metadata": {},
   "outputs": [],
   "source": [
    "import twitter\n",
    "import json\n",
    "import os"
   ]
  },
  {
   "cell_type": "markdown",
   "metadata": {},
   "source": [
    "**Task:** Load the values of access tokens and keys from environmental variables to python variables"
   ]
  },
  {
   "cell_type": "code",
   "execution_count": 2,
   "metadata": {},
   "outputs": [],
   "source": [
    "consumer_key = os.environ['twitter_api_key']\n",
    "consumer_secret = os.environ['twitter_api_key_secret']\n",
    "access_token = os.environ['twitter_access_token']\n",
    "access_token_secret = os.environ['twitter_access_token_secret']"
   ]
  },
  {
   "cell_type": "code",
   "execution_count": 3,
   "metadata": {},
   "outputs": [],
   "source": [
    "api = twitter.Api(consumer_key=consumer_key,\n",
    "                  consumer_secret=consumer_secret,\n",
    "                  access_token_key=access_token,\n",
    "                  access_token_secret=access_token_secret)"
   ]
  },
  {
   "cell_type": "code",
   "execution_count": 4,
   "metadata": {},
   "outputs": [
    {
     "name": "stdout",
     "output_type": "stream",
     "text": [
      "<class 'twitter.api.Api'>\n"
     ]
    }
   ],
   "source": [
    "# Checking the type of api object\n",
    "print(type(api))"
   ]
  },
  {
   "cell_type": "code",
   "execution_count": 5,
   "metadata": {},
   "outputs": [
    {
     "name": "stdout",
     "output_type": "stream",
     "text": [
      "{\"created_at\": \"Tue Sep 20 02:10:29 +0000 2022\", \"default_profile\": true, \"default_profile_image\": true, \"friends_count\": 1, \"id\": 1572045462408167425, \"id_str\": \"1572045462408167425\", \"name\": \"Jeremy Rilkoff\", \"profile_background_color\": \"F5F8FA\", \"profile_image_url\": \"http://abs.twimg.com/sticky/default_profile_images/default_profile_normal.png\", \"profile_image_url_https\": \"https://abs.twimg.com/sticky/default_profile_images/default_profile_normal.png\", \"profile_link_color\": \"1DA1F2\", \"profile_sidebar_border_color\": \"C0DEED\", \"profile_sidebar_fill_color\": \"DDEEF6\", \"profile_text_color\": \"333333\", \"profile_use_background_image\": true, \"screen_name\": \"JeremyRilkoff\", \"withheld_in_countries\": []}\n"
     ]
    }
   ],
   "source": [
    "print(api.VerifyCredentials())"
   ]
  },
  {
   "cell_type": "code",
   "execution_count": 6,
   "metadata": {},
   "outputs": [
    {
     "name": "stdout",
     "output_type": "stream",
     "text": [
      "[]\n"
     ]
    }
   ],
   "source": [
    "user = 'Jeremy Rilkoff'\n",
    "statuses = api.GetUserTimeline(screen_name=user)\n",
    "print([s.text for s in statuses])"
   ]
  },
  {
   "cell_type": "code",
   "execution_count": 7,
   "metadata": {},
   "outputs": [
    {
     "name": "stdout",
     "output_type": "stream",
     "text": [
      "['CBC News']\n"
     ]
    }
   ],
   "source": [
    "users = api.GetFriends()\n",
    "print([u.name for u in users])"
   ]
  },
  {
   "cell_type": "code",
   "execution_count": 8,
   "metadata": {},
   "outputs": [
    {
     "ename": "TwitterError",
     "evalue": "{'Unknown error': '<html>\\\\n<head>\\\\n<meta http-equiv=\"Content-Type\" content=\"text/html; charset=utf-8\"/>\\\\n<title>Error 403 '}",
     "output_type": "error",
     "traceback": [
      "\u001b[1;31m---------------------------------------------------------------------------\u001b[0m",
      "\u001b[1;31mJSONDecodeError\u001b[0m                           Traceback (most recent call last)",
      "File \u001b[1;32m~\\AppData\\Roaming\\Python\\Python39\\site-packages\\twitter\\api.py:4897\u001b[0m, in \u001b[0;36mApi._ParseAndCheckTwitter\u001b[1;34m(self, json_data)\u001b[0m\n\u001b[0;32m   4896\u001b[0m \u001b[39mtry\u001b[39;00m:\n\u001b[1;32m-> 4897\u001b[0m     data \u001b[39m=\u001b[39m json\u001b[39m.\u001b[39;49mloads(json_data)\n\u001b[0;32m   4898\u001b[0m \u001b[39mexcept\u001b[39;00m \u001b[39mValueError\u001b[39;00m:\n",
      "File \u001b[1;32mc:\\Program Files\\Python39\\lib\\json\\__init__.py:346\u001b[0m, in \u001b[0;36mloads\u001b[1;34m(s, cls, object_hook, parse_float, parse_int, parse_constant, object_pairs_hook, **kw)\u001b[0m\n\u001b[0;32m    343\u001b[0m \u001b[39mif\u001b[39;00m (\u001b[39mcls\u001b[39m \u001b[39mis\u001b[39;00m \u001b[39mNone\u001b[39;00m \u001b[39mand\u001b[39;00m object_hook \u001b[39mis\u001b[39;00m \u001b[39mNone\u001b[39;00m \u001b[39mand\u001b[39;00m\n\u001b[0;32m    344\u001b[0m         parse_int \u001b[39mis\u001b[39;00m \u001b[39mNone\u001b[39;00m \u001b[39mand\u001b[39;00m parse_float \u001b[39mis\u001b[39;00m \u001b[39mNone\u001b[39;00m \u001b[39mand\u001b[39;00m\n\u001b[0;32m    345\u001b[0m         parse_constant \u001b[39mis\u001b[39;00m \u001b[39mNone\u001b[39;00m \u001b[39mand\u001b[39;00m object_pairs_hook \u001b[39mis\u001b[39;00m \u001b[39mNone\u001b[39;00m \u001b[39mand\u001b[39;00m \u001b[39mnot\u001b[39;00m kw):\n\u001b[1;32m--> 346\u001b[0m     \u001b[39mreturn\u001b[39;00m _default_decoder\u001b[39m.\u001b[39;49mdecode(s)\n\u001b[0;32m    347\u001b[0m \u001b[39mif\u001b[39;00m \u001b[39mcls\u001b[39m \u001b[39mis\u001b[39;00m \u001b[39mNone\u001b[39;00m:\n",
      "File \u001b[1;32mc:\\Program Files\\Python39\\lib\\json\\decoder.py:337\u001b[0m, in \u001b[0;36mJSONDecoder.decode\u001b[1;34m(self, s, _w)\u001b[0m\n\u001b[0;32m    333\u001b[0m \u001b[39m\"\"\"Return the Python representation of ``s`` (a ``str`` instance\u001b[39;00m\n\u001b[0;32m    334\u001b[0m \u001b[39mcontaining a JSON document).\u001b[39;00m\n\u001b[0;32m    335\u001b[0m \n\u001b[0;32m    336\u001b[0m \u001b[39m\"\"\"\u001b[39;00m\n\u001b[1;32m--> 337\u001b[0m obj, end \u001b[39m=\u001b[39m \u001b[39mself\u001b[39;49m\u001b[39m.\u001b[39;49mraw_decode(s, idx\u001b[39m=\u001b[39;49m_w(s, \u001b[39m0\u001b[39;49m)\u001b[39m.\u001b[39;49mend())\n\u001b[0;32m    338\u001b[0m end \u001b[39m=\u001b[39m _w(s, end)\u001b[39m.\u001b[39mend()\n",
      "File \u001b[1;32mc:\\Program Files\\Python39\\lib\\json\\decoder.py:355\u001b[0m, in \u001b[0;36mJSONDecoder.raw_decode\u001b[1;34m(self, s, idx)\u001b[0m\n\u001b[0;32m    354\u001b[0m \u001b[39mexcept\u001b[39;00m \u001b[39mStopIteration\u001b[39;00m \u001b[39mas\u001b[39;00m err:\n\u001b[1;32m--> 355\u001b[0m     \u001b[39mraise\u001b[39;00m JSONDecodeError(\u001b[39m\"\u001b[39m\u001b[39mExpecting value\u001b[39m\u001b[39m\"\u001b[39m, s, err\u001b[39m.\u001b[39mvalue) \u001b[39mfrom\u001b[39;00m \u001b[39mNone\u001b[39m\n\u001b[0;32m    356\u001b[0m \u001b[39mreturn\u001b[39;00m obj, end\n",
      "\u001b[1;31mJSONDecodeError\u001b[0m: Expecting value: line 1 column 1 (char 0)",
      "\nDuring handling of the above exception, another exception occurred:\n",
      "\u001b[1;31mTwitterError\u001b[0m                              Traceback (most recent call last)",
      "Cell \u001b[1;32mIn [8], line 24\u001b[0m\n\u001b[0;32m     20\u001b[0m user_dir \u001b[38;5;241m=\u001b[39m \u001b[38;5;124m'\u001b[39m\u001b[38;5;124mC:/Users/jrilk/OneDrive/LHL/txt_files\u001b[39m\u001b[38;5;124m'\u001b[39m\n\u001b[0;32m     22\u001b[0m txt_file1\u001b[38;5;241m=\u001b[39m \u001b[38;5;124m'\u001b[39m\u001b[38;5;124mpositiveJR\u001b[39m\u001b[38;5;124m'\u001b[39m\n\u001b[1;32m---> 24\u001b[0m \u001b[43mmain\u001b[49m\u001b[43m(\u001b[49m\u001b[43muser_dir\u001b[49m\u001b[43m,\u001b[49m\u001b[43m \u001b[49m\u001b[43mtxt_file1\u001b[49m\u001b[43m,\u001b[49m\u001b[43m \u001b[49m\u001b[43mFILTER1\u001b[49m\u001b[43m,\u001b[49m\u001b[43m \u001b[49m\u001b[43mLANGUAGES1\u001b[49m\u001b[43m)\u001b[49m\n",
      "Cell \u001b[1;32mIn [8], line 13\u001b[0m, in \u001b[0;36mmain\u001b[1;34m(directory, filename, FILTER, LANGUAGE)\u001b[0m\n\u001b[0;32m     11\u001b[0m \u001b[38;5;28;01mdef\u001b[39;00m \u001b[38;5;21mmain\u001b[39m(directory, filename, FILTER, LANGUAGE):\n\u001b[0;32m     12\u001b[0m     \u001b[38;5;28;01mwith\u001b[39;00m \u001b[38;5;28mopen\u001b[39m(directory\u001b[38;5;241m+\u001b[39m\u001b[38;5;124m'\u001b[39m\u001b[38;5;124m/\u001b[39m\u001b[38;5;124m'\u001b[39m\u001b[38;5;241m+\u001b[39mfilename\u001b[38;5;241m+\u001b[39m\u001b[38;5;124m'\u001b[39m\u001b[38;5;124m.txt\u001b[39m\u001b[38;5;124m'\u001b[39m, \u001b[38;5;124m'\u001b[39m\u001b[38;5;124ma\u001b[39m\u001b[38;5;124m'\u001b[39m) \u001b[38;5;28;01mas\u001b[39;00m f:\n\u001b[1;32m---> 13\u001b[0m         \u001b[38;5;28;01mfor\u001b[39;00m line \u001b[38;5;129;01min\u001b[39;00m api\u001b[38;5;241m.\u001b[39mGetStreamFilter(track\u001b[38;5;241m=\u001b[39mFILTER1, languages\u001b[38;5;241m=\u001b[39mLANGUAGES1):\n\u001b[0;32m     14\u001b[0m             f\u001b[38;5;241m.\u001b[39mwrite(json\u001b[38;5;241m.\u001b[39mdumps(line))\n\u001b[0;32m     15\u001b[0m             f\u001b[38;5;241m.\u001b[39mwrite(\u001b[38;5;124m'\u001b[39m\u001b[38;5;130;01m\\n\u001b[39;00m\u001b[38;5;124m'\u001b[39m)\n",
      "File \u001b[1;32m~\\AppData\\Roaming\\Python\\Python39\\site-packages\\twitter\\api.py:4595\u001b[0m, in \u001b[0;36mApi.GetStreamFilter\u001b[1;34m(self, follow, track, locations, languages, delimited, stall_warnings, filter_level)\u001b[0m\n\u001b[0;32m   4593\u001b[0m \u001b[39mfor\u001b[39;00m line \u001b[39min\u001b[39;00m resp\u001b[39m.\u001b[39miter_lines():\n\u001b[0;32m   4594\u001b[0m     \u001b[39mif\u001b[39;00m line:\n\u001b[1;32m-> 4595\u001b[0m         data \u001b[39m=\u001b[39m \u001b[39mself\u001b[39;49m\u001b[39m.\u001b[39;49m_ParseAndCheckTwitter(line\u001b[39m.\u001b[39;49mdecode(\u001b[39m'\u001b[39;49m\u001b[39mutf-8\u001b[39;49m\u001b[39m'\u001b[39;49m))\n\u001b[0;32m   4596\u001b[0m         \u001b[39myield\u001b[39;00m data\n",
      "File \u001b[1;32m~\\AppData\\Roaming\\Python\\Python39\\site-packages\\twitter\\api.py:4907\u001b[0m, in \u001b[0;36mApi._ParseAndCheckTwitter\u001b[1;34m(self, json_data)\u001b[0m\n\u001b[0;32m   4905\u001b[0m     \u001b[39mif\u001b[39;00m \u001b[39m\"\u001b[39m\u001b[39mError 401 Unauthorized\u001b[39m\u001b[39m\"\u001b[39m \u001b[39min\u001b[39;00m json_data:\n\u001b[0;32m   4906\u001b[0m         \u001b[39mraise\u001b[39;00m TwitterError({\u001b[39m'\u001b[39m\u001b[39mmessage\u001b[39m\u001b[39m'\u001b[39m: \u001b[39m\"\u001b[39m\u001b[39mUnauthorized\u001b[39m\u001b[39m\"\u001b[39m})\n\u001b[1;32m-> 4907\u001b[0m     \u001b[39mraise\u001b[39;00m TwitterError({\u001b[39m'\u001b[39m\u001b[39mUnknown error\u001b[39m\u001b[39m'\u001b[39m: \u001b[39m'\u001b[39m\u001b[39m{0}\u001b[39;00m\u001b[39m'\u001b[39m\u001b[39m.\u001b[39mformat(json_data)})\n\u001b[0;32m   4908\u001b[0m \u001b[39mself\u001b[39m\u001b[39m.\u001b[39m_CheckForTwitterError(data)\n\u001b[0;32m   4909\u001b[0m \u001b[39mreturn\u001b[39;00m data\n",
      "\u001b[1;31mTwitterError\u001b[0m: {'Unknown error': '<html>\\\\n<head>\\\\n<meta http-equiv=\"Content-Type\" content=\"text/html; charset=utf-8\"/>\\\\n<title>Error 403 '}"
     ]
    }
   ],
   "source": [
    "## FOLLOWING FUNCTION WILL COLLECT REAL-TIME TWEETS IN OUR COMPUTER\n",
    "\n",
    "# data returned will be for any tweet mentioning strings in the list FILTER\n",
    "FILTER = [':)']\n",
    "\n",
    "# Languages to filter tweets by is a list. This will be joined by Twitter\n",
    "# to return data mentioning tweets only in the english language.\n",
    "LANGUAGES = ['en']\n",
    "\n",
    "\n",
    "def main(directory, filename, FILTER, LANGUAGE):\n",
    "    with open(directory+'/'+filename+'.txt', 'a') as f:\n",
    "        for line in api.GetStreamFilter(track=FILTER1, languages=LANGUAGES1):\n",
    "            f.write(json.dumps(line))\n",
    "            f.write('\\n')\n",
    "   \n",
    "FILTER1 = ['hello']\n",
    "LANGUAGES1 = ['en']\n",
    "\n",
    "user_dir = 'C:/Users/jrilk/OneDrive/LHL/txt_files'\n",
    "\n",
    "txt_file1= 'positiveJR'\n",
    "\n",
    "main(user_dir, txt_file1, FILTER1, LANGUAGES1)"
   ]
  },
  {
   "cell_type": "code",
   "execution_count": 8,
   "metadata": {
    "collapsed": true,
    "jupyter": {
     "outputs_hidden": true
    }
   },
   "outputs": [
    {
     "ename": "SyntaxError",
     "evalue": "unexpected EOF while parsing (1611806181.py, line 2)",
     "output_type": "error",
     "traceback": [
      "\u001b[1;36m  Cell \u001b[1;32mIn [8], line 2\u001b[1;36m\u001b[0m\n\u001b[1;33m    main(\u001b[0m\n\u001b[1;37m         ^\u001b[0m\n\u001b[1;31mSyntaxError\u001b[0m\u001b[1;31m:\u001b[0m unexpected EOF while parsing\n"
     ]
    }
   ],
   "source": [
    "# Execute function\n",
    "main("
   ]
  },
  {
   "cell_type": "markdown",
   "metadata": {},
   "source": [
    "**Task:** Edit function `main` so it can store tweets anywhere (location specified as parameter). The FILTER and LANGUAGES should be parameters as well. Test it with different values and languages."
   ]
  },
  {
   "cell_type": "markdown",
   "metadata": {},
   "source": [
    "**Task:** Create File `stream_tweets.py` that can be executed from the Terminal by exporting the code from this notebook."
   ]
  },
  {
   "cell_type": "markdown",
   "metadata": {},
   "source": [
    "**Task:** Start storing tweets which contain either happy smiley (`:)`) or sad smiley (`:(`) in their text. We will use this dataset during the NLP section. It's good to let the script running for at least 2-3 hours to collect enough data for future modeling."
   ]
  },
  {
   "cell_type": "markdown",
   "metadata": {},
   "source": [
    "> #### Note\n",
    "> the main function runs as an ongoing process and won;t stop until you stop it!"
   ]
  },
  {
   "cell_type": "code",
   "execution_count": null,
   "metadata": {},
   "outputs": [],
   "source": []
  },
  {
   "cell_type": "code",
   "execution_count": null,
   "metadata": {},
   "outputs": [],
   "source": []
  }
 ],
 "metadata": {
  "kernelspec": {
   "display_name": "Python 3.9.13 64-bit",
   "language": "python",
   "name": "python3"
  },
  "language_info": {
   "codemirror_mode": {
    "name": "ipython",
    "version": 3
   },
   "file_extension": ".py",
   "mimetype": "text/x-python",
   "name": "python",
   "nbconvert_exporter": "python",
   "pygments_lexer": "ipython3",
   "version": "3.9.13"
  },
  "vscode": {
   "interpreter": {
    "hash": "11938c6bc6919ae2720b4d5011047913343b08a43b18698fd82dedb0d4417594"
   }
  }
 },
 "nbformat": 4,
 "nbformat_minor": 4
}
